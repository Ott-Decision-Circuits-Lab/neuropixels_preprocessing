{
 "cells": [
  {
   "cell_type": "code",
   "execution_count": null,
   "metadata": {
    "collapsed": true,
    "pycharm": {
     "name": "#%%\n"
    }
   },
   "outputs": [],
   "source": [
    "import numpy as np\n",
    "import matplotlib.pyplot as plt\n",
    "import pandas as pd\n",
    "\n",
    "%matplotlib inline"
   ]
  },
  {
   "cell_type": "markdown",
   "source": [
    "<img src='2AFC_events.png' width=1200 height=1200/>"
   ],
   "metadata": {
    "collapsed": false,
    "pycharm": {
     "name": "#%% md\n"
    }
   }
  },
  {
   "cell_type": "code",
   "execution_count": null,
   "outputs": [],
   "source": [
    "behav_df = pd.DataFrame()\n",
    "behav_df['Rewarded'] = [1, 1, 0]\n",
    "behav_df['CorrectChoice'] = [1, 0, 0]\n",
    "behav_df['CompletedTrial'] = [1, 1, 0]\n",
    "behav_df[\"ChosenDirection\"] = [1, 2, -1]\n",
    "behav_df['TrialNumber'] = [0, 1, 2]\n",
    "behav_df['WaitingTime'] = [3.1401, 1.0460, 2.2079]\n",
    "behav_df.loc[:, 'TrialStartAligned'] = [110.187, 122.253, 135.293]  # seconds from beginning of recording (only really care about difference)\n",
    "\n",
    "behav_df['DV'] = [-0.15556, 0.948718, -0.2]\n",
    "behav_df['stim_dir'] = [1, 0, 1]\n",
    "\n",
    "behav_df['CatchTrial'] = [False, False, False]\n",
    "\n",
    "behav_df['PokeCenterStart'] = [6.4965, 4.5105, 8.4341]\n",
    "behav_df['StimulusOnset'] = [6.7186, 4.9032, 8.6681]\n",
    "behav_df['StimulusOffset'] = [7.0687, 5.2533, 9.0182]\n",
    "\n",
    "behav_df['ResponseStart'] = [7.3495, 5.4722, 9.3196]\n",
    "behav_df['ResponseEnd'] = [10.9949, 8.6123, 10.3656]"
   ],
   "metadata": {
    "collapsed": false,
    "pycharm": {
     "name": "#%%\n"
    }
   }
  },
  {
   "cell_type": "code",
   "execution_count": null,
   "outputs": [],
   "source": [
    "behav_df.head()"
   ],
   "metadata": {
    "collapsed": false,
    "pycharm": {
     "name": "#%%\n"
    }
   }
  },
  {
   "cell_type": "code",
   "execution_count": null,
   "outputs": [],
   "source": [],
   "metadata": {
    "collapsed": false,
    "pycharm": {
     "name": "#%%\n"
    }
   }
  }
 ],
 "metadata": {
  "kernelspec": {
   "display_name": "Python 3",
   "language": "python",
   "name": "python3"
  },
  "language_info": {
   "codemirror_mode": {
    "name": "ipython",
    "version": 2
   },
   "file_extension": ".py",
   "mimetype": "text/x-python",
   "name": "python",
   "nbconvert_exporter": "python",
   "pygments_lexer": "ipython2",
   "version": "2.7.6"
  }
 },
 "nbformat": 4,
 "nbformat_minor": 0
}