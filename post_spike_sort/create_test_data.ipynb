{
 "cells": [
  {
   "cell_type": "code",
   "execution_count": null,
   "metadata": {
    "collapsed": true,
    "pycharm": {
     "name": "#%%\n"
    }
   },
   "outputs": [],
   "source": [
    "import numpy as np\n",
    "import matplotlib.pyplot as plt\n",
    "import pandas as pd\n",
    "from joblib import dump\n",
    "\n",
    "from neuropixel_analysis.lib.plotting_utils import raster\n",
    "\n",
    "plt.rc('font', size=14)\n",
    "%matplotlib inline"
   ]
  },
  {
   "cell_type": "markdown",
   "source": [
    "<img src='2AFC_events.png' width=1200 height=1200/>"
   ],
   "metadata": {
    "collapsed": false,
    "pycharm": {
     "name": "#%% md\n"
    }
   }
  },
  {
   "cell_type": "code",
   "execution_count": null,
   "outputs": [],
   "source": [
    "behav_df = pd.DataFrame()\n",
    "behav_df['Rewarded'] = [1, 1, 0]\n",
    "behav_df['CorrectChoice'] = [1, 0, 0]\n",
    "behav_df['CompletedTrial'] = [1, 1, 0]\n",
    "behav_df[\"ChosenDirection\"] = [1, 2, -1]\n",
    "behav_df['TrialNumber'] = [0, 1, 2]\n",
    "behav_df['WaitingTime'] = [3.1401, 1.0460, 2.2079]\n",
    "behav_df.loc[:, 'TrialStartAligned'] = [10.187, 22.253, 35.293]  # seconds from beginning of recording (only really care about difference)\n",
    "\n",
    "behav_df['DV'] = [-0.15556, 0.948718, -0.2]\n",
    "behav_df['stim_dir'] = [1, 0, 1]\n",
    "\n",
    "behav_df['CatchTrial'] = [False, False, False]\n",
    "\n",
    "behav_df['PokeCenterStart'] = [6.4965, 4.5105, 8.4341]\n",
    "behav_df['StimulusOnset'] = [6.7186, 4.9032, 8.6681]\n",
    "behav_df['StimulusOffset'] = [7.0687, 5.2533, 9.0182]\n",
    "\n",
    "behav_df['ResponseStart'] = [7.3495, 5.4722, 9.3196]\n",
    "behav_df['ResponseEnd'] = [10.9949, 8.6123, 10.3656]"
   ],
   "metadata": {
    "collapsed": false,
    "pycharm": {
     "name": "#%%\n"
    }
   }
  },
  {
   "cell_type": "code",
   "execution_count": null,
   "outputs": [],
   "source": [
    "n_trials = len(behav_df)\n",
    "print(n_trials)\n",
    "behav_df.head()"
   ],
   "metadata": {
    "collapsed": false,
    "pycharm": {
     "name": "#%%\n"
    }
   }
  },
  {
   "cell_type": "code",
   "execution_count": null,
   "outputs": [],
   "source": [
    "n_nrns = 100\n",
    "recording_len = 50  # seconds\n",
    "ms = 1000\n",
    "spike_mat_ms = np.random.choice([0, 1], size=(n_nrns, recording_len * ms), p=[0.9995, 0.0005]).astype('uint8')"
   ],
   "metadata": {
    "collapsed": false,
    "pycharm": {
     "name": "#%%\n"
    }
   }
  },
  {
   "cell_type": "code",
   "execution_count": null,
   "outputs": [],
   "source": [
    "raster(spike_mat_ms, begin_bin=8*1000, end_bin=recording_len*1000, sort=False)\n",
    "for i in range(n_trials):\n",
    "    _start = behav_df.TrialStartAligned[i] * ms\n",
    "    plt.axvline(_start, c='C0')\n",
    "    plt.axvline(_start + behav_df.StimulusOnset[i] * ms, c='C1')\n",
    "    plt.axvline(_start + behav_df.ResponseStart[i] * ms, c='C2')\n",
    "    plt.axvline(_start + behav_df.ResponseEnd[i] * ms, c='C3')\n",
    "\n",
    "    t_arr = np.arange(_start, _start + behav_df.ResponseEnd[i] * ms)\n",
    "    plt.fill_between(x=t_arr, y1=np.ones_like(t_arr), y2=100 * np.ones_like(t_arr), color='C4', alpha=0.2)\n"
   ],
   "metadata": {
    "collapsed": false,
    "pycharm": {
     "name": "#%%\n"
    }
   }
  },
  {
   "cell_type": "code",
   "execution_count": null,
   "outputs": [],
   "source": [
    "t_event = np.arange(-1000., 1000.)\n",
    "len_arch = t_event.shape[0]\n",
    "stim_arch = np.exp(-t_event**2 / (2 * 1e5)) * 0.01\n",
    "\n",
    "zero_point = int(len_arch/2)\n",
    "resp_ramp = np.zeros_like(t_event)\n",
    "resp_ramp[:zero_point] = (t_event[:zero_point] + 1000) * 1e-5\n",
    "resp_ramp[zero_point:int(1.25*zero_point)] = 0.01 - t_event[zero_point:int(1.25*zero_point)]/25000\n"
   ],
   "metadata": {
    "collapsed": false,
    "pycharm": {
     "name": "#%%\n"
    }
   }
  },
  {
   "cell_type": "code",
   "execution_count": null,
   "outputs": [],
   "source": [
    "plt.subplot(121)\n",
    "plt.plot(t_event, stim_arch)\n",
    "plt.subplot(122)\n",
    "plt.plot(t_event, resp_ramp)\n"
   ],
   "metadata": {
    "collapsed": false,
    "pycharm": {
     "name": "#%%\n"
    }
   }
  },
  {
   "cell_type": "code",
   "execution_count": null,
   "outputs": [],
   "source": [
    "stim_clust_size = int(n_nrns / 2)\n",
    "spiking_around_stim = np.zeros((stim_clust_size, len_arch))\n",
    "ramp_to_resp = np.zeros((stim_clust_size, len_arch))\n",
    "for i in range(len_arch):\n",
    "    spiking_around_stim[:, i] = np.random.choice(a=[0, 1], size=stim_clust_size, p=[1 - stim_arch[i], stim_arch[i]])\n",
    "    ramp_to_resp[:, i] = np.random.choice(a=[0, 1], size=stim_clust_size, p=[1 - resp_ramp[i], resp_ramp[i]])\n"
   ],
   "metadata": {
    "collapsed": false,
    "pycharm": {
     "name": "#%%\n"
    }
   }
  },
  {
   "cell_type": "code",
   "execution_count": null,
   "outputs": [],
   "source": [
    "plt.subplot(121)\n",
    "raster(spiking_around_stim, 0, 2000, sort=False)\n",
    "plt.subplot(122)\n",
    "raster(ramp_to_resp, 0, 2000, sort=False)\n"
   ],
   "metadata": {
    "collapsed": false,
    "pycharm": {
     "name": "#%%\n"
    }
   }
  },
  {
   "cell_type": "code",
   "execution_count": null,
   "outputs": [],
   "source": [
    "updated_spike_mat = spike_mat_ms.copy()\n",
    "for i in range(n_trials):\n",
    "    _start = behav_df.TrialStartAligned[i] * ms\n",
    "    stim_on = int(_start + behav_df.StimulusOnset[i] * ms)\n",
    "    resp_end = int(_start + behav_df.ResponseEnd[i] * ms)\n",
    "    updated_spike_mat[stim_clust_size:, (stim_on - 1000):(stim_on+1000)] = spiking_around_stim\n",
    "    updated_spike_mat[:stim_clust_size, (resp_end - 1000):(resp_end+1000)] = ramp_to_resp\n"
   ],
   "metadata": {
    "collapsed": false,
    "pycharm": {
     "name": "#%%\n"
    }
   }
  },
  {
   "cell_type": "code",
   "execution_count": null,
   "outputs": [],
   "source": [
    "plt.figure(figsize=(14,7))\n",
    "plt.subplot(121)\n",
    "raster(updated_spike_mat, begin_bin=8*1000, end_bin=recording_len*1000, sort=False)\n",
    "for i in range(n_trials):\n",
    "    _start = behav_df.TrialStartAligned[i] * ms\n",
    "    plt.axvline(_start, c='C0')\n",
    "    plt.axvline(_start + behav_df.StimulusOnset[i] * ms, c='C1')\n",
    "    plt.axvline(_start + behav_df.ResponseStart[i] * ms, c='C2')\n",
    "    plt.axvline(_start + behav_df.ResponseEnd[i] * ms, c='C3')\n",
    "\n",
    "    t_arr = np.arange(_start, _start + behav_df.ResponseEnd[i] * ms)\n",
    "    plt.fill_between(x=t_arr, y1=np.ones_like(t_arr), y2=100 * np.ones_like(t_arr), color='C4', alpha=0.2)\n",
    "\n",
    "plt.subplot(122)\n",
    "raster(updated_spike_mat, begin_bin=8*1000, end_bin=recording_len*1000, sort=False)\n",
    "for i in range(n_trials):\n",
    "    _start = behav_df.TrialStartAligned[i] * ms\n",
    "    plt.axvline(_start, c='C0')\n",
    "    plt.axvline(_start + behav_df.StimulusOnset[i] * ms, c='C1')\n",
    "    plt.axvline(_start + behav_df.ResponseStart[i] * ms, c='C2')\n",
    "    plt.axvline(_start + behav_df.ResponseEnd[i] * ms, c='C3')\n",
    "\n",
    "    t_arr = np.arange(_start, _start + behav_df.ResponseEnd[i] * ms)\n",
    "    plt.fill_between(x=t_arr, y1=np.ones_like(t_arr), y2=100 * np.ones_like(t_arr), color='C4', alpha=0.2)\n",
    "plt.xlim(10000, 22000)\n"
   ],
   "metadata": {
    "collapsed": false,
    "pycharm": {
     "name": "#%%\n"
    }
   }
  },
  {
   "cell_type": "code",
   "execution_count": null,
   "outputs": [],
   "source": [
    "_low, _high = 10000, 22000\n",
    "ave_bin = 40\n",
    "t_ave = np.arange(0, updated_spike_mat.shape[-1], ave_bin)\n",
    "plt.figure(figsize=(14, 7))\n",
    "plt.subplot(121)\n",
    "# plt.plot(updated_spike_mat[stim_clust_size:].mean(axis=0))\n",
    "plt.plot(t_ave, updated_spike_mat[stim_clust_size:].mean(axis=0).reshape(-1, ave_bin).mean(axis=-1), c='C1')\n",
    "plt.xlim(_low, _high)\n",
    "plt.subplot(122)\n",
    "# plt.plot(updated_spike_mat[:stim_clust_size].mean(axis=0))\n",
    "plt.plot(t_ave, updated_spike_mat[:stim_clust_size].mean(axis=0).reshape(-1, ave_bin).mean(axis=-1), c='C2')\n",
    "plt.xlim(_low, _high)\n"
   ],
   "metadata": {
    "collapsed": false,
    "pycharm": {
     "name": "#%%\n"
    }
   }
  },
  {
   "cell_type": "code",
   "execution_count": null,
   "outputs": [],
   "source": [
    "cellbase_dir = '/home/mud/Workspace/ott_neuropix_data/cellbase/'\n",
    "dump(updated_spike_mat, cellbase_dir + 'toy_spikes.npy', compress=3)\n",
    "dump(behav_df, cellbase_dir + \"toy_behav_df\", compress=3)"
   ],
   "metadata": {
    "collapsed": false,
    "pycharm": {
     "name": "#%%\n"
    }
   }
  }
 ],
 "metadata": {
  "kernelspec": {
   "display_name": "Python 3",
   "language": "python",
   "name": "python3"
  },
  "language_info": {
   "codemirror_mode": {
    "name": "ipython",
    "version": 2
   },
   "file_extension": ".py",
   "mimetype": "text/x-python",
   "name": "python",
   "nbconvert_exporter": "python",
   "pygments_lexer": "ipython2",
   "version": "2.7.6"
  }
 },
 "nbformat": 4,
 "nbformat_minor": 0
}